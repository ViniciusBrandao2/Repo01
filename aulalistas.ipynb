{
  "nbformat": 4,
  "nbformat_minor": 0,
  "metadata": {
    "colab": {
      "name": "aulalistas.ipynb",
      "provenance": [],
      "authorship_tag": "ABX9TyOZp31XrEOuCsflgrWGJW8N",
      "include_colab_link": true
    },
    "kernelspec": {
      "name": "python3",
      "display_name": "Python 3"
    }
  },
  "cells": [
    {
      "cell_type": "markdown",
      "metadata": {
        "id": "view-in-github",
        "colab_type": "text"
      },
      "source": [
        "<a href=\"https://colab.research.google.com/github/ViniciusBrandao2/Repo01/blob/master/aulalistas.ipynb\" target=\"_parent\"><img src=\"https://colab.research.google.com/assets/colab-badge.svg\" alt=\"Open In Colab\"/></a>"
      ]
    },
    {
      "cell_type": "code",
      "metadata": {
        "id": "n0UUQzdjbjkK",
        "colab_type": "code",
        "colab": {}
      },
      "source": [
        "nome_lista=[]\n",
        "\n",
        "print(nome_lista)"
      ],
      "execution_count": null,
      "outputs": []
    },
    {
      "cell_type": "code",
      "metadata": {
        "id": "vTCP227_dEFB",
        "colab_type": "code",
        "colab": {
          "base_uri": "https://localhost:8080/",
          "height": 34
        },
        "outputId": "c1bec72f-0ad1-4b0e-b500-0645fdf7dc00"
      },
      "source": [
        "lista_nomes = [\"bruno souza\",'vinicius souza','gabriel falstino','edy']\n",
        "print(lista_nomes)"
      ],
      "execution_count": 23,
      "outputs": [
        {
          "output_type": "stream",
          "text": [
            "['bruno souza', 'vinicius souza', 'gabriel falstino', 'edy']\n"
          ],
          "name": "stdout"
        }
      ]
    },
    {
      "cell_type": "code",
      "metadata": {
        "id": "LY1Oi3P7eaba",
        "colab_type": "code",
        "colab": {
          "base_uri": "https://localhost:8080/",
          "height": 34
        },
        "outputId": "81afb2d3-ff26-4146-8622-bea53fa93245"
      },
      "source": [
        "print(len(lista_nomes))\n"
      ],
      "execution_count": 3,
      "outputs": [
        {
          "output_type": "stream",
          "text": [
            "3\n"
          ],
          "name": "stdout"
        }
      ]
    },
    {
      "cell_type": "code",
      "metadata": {
        "id": "q_lwZ0afgloq",
        "colab_type": "code",
        "colab": {
          "base_uri": "https://localhost:8080/",
          "height": 34
        },
        "outputId": "ca9e8902-5a6f-48c4-d9c4-121de8af3401"
      },
      "source": [
        "print(lista_nomes[2])"
      ],
      "execution_count": 24,
      "outputs": [
        {
          "output_type": "stream",
          "text": [
            "gabriel falstino\n"
          ],
          "name": "stdout"
        }
      ]
    },
    {
      "cell_type": "code",
      "metadata": {
        "id": "hb-WDXxCg_oe",
        "colab_type": "code",
        "colab": {}
      },
      "source": [
        "lista_generica=['edsom', 49, 1.73, None, True]\n",
        "print(lista_generica)"
      ],
      "execution_count": null,
      "outputs": []
    },
    {
      "cell_type": "code",
      "metadata": {
        "id": "EXPKXsRThwdj",
        "colab_type": "code",
        "colab": {
          "base_uri": "https://localhost:8080/",
          "height": 34
        },
        "outputId": "d6b38ef3-3b2f-4780-8534-f1abf332509a"
      },
      "source": [
        "list_countries=['brasil','angola','suiça','espanha','holanda']\n",
        "\n",
        "size_countries = len(list_countries)\n",
        "print(size_countries)"
      ],
      "execution_count": 18,
      "outputs": [
        {
          "output_type": "stream",
          "text": [
            "5\n"
          ],
          "name": "stdout"
        }
      ]
    },
    {
      "cell_type": "code",
      "metadata": {
        "id": "PmYjIQJvjR2y",
        "colab_type": "code",
        "colab": {}
      },
      "source": [
        "print(list_coutries[size_countries-1])"
      ],
      "execution_count": null,
      "outputs": []
    },
    {
      "cell_type": "code",
      "metadata": {
        "id": "M5qlqojuiEx2",
        "colab_type": "code",
        "colab": {}
      },
      "source": [
        "result=idade for idades in xpto"
      ],
      "execution_count": null,
      "outputs": []
    },
    {
      "cell_type": "code",
      "metadata": {
        "id": "9eSFnqY3idL-",
        "colab_type": "code",
        "colab": {}
      },
      "source": [
        "for x in list_countries:\n",
        "  print(x)"
      ],
      "execution_count": null,
      "outputs": []
    },
    {
      "cell_type": "code",
      "metadata": {
        "id": "ghPialTUkxh9",
        "colab_type": "code",
        "colab": {}
      },
      "source": [
        "for y in list_countries:\n",
        "  print('POSIÇAO',list_countries.index(y),y)"
      ],
      "execution_count": null,
      "outputs": []
    },
    {
      "cell_type": "code",
      "metadata": {
        "id": "TDMOW7lWlkjD",
        "colab_type": "code",
        "colab": {}
      },
      "source": [
        "print('original:',list_countries)\n",
        "list_countries.sort()\n",
        "print('ordenada:',list_countries)\n",
        "list_countries.reverse()\n",
        "print('reversa:',list_countries)"
      ],
      "execution_count": null,
      "outputs": []
    },
    {
      "cell_type": "code",
      "metadata": {
        "id": "niHpzzBYoFA2",
        "colab_type": "code",
        "colab": {
          "base_uri": "https://localhost:8080/",
          "height": 101
        },
        "outputId": "cc3fb7f3-80eb-4147-c2f6-bb5f1e7ef809"
      },
      "source": [
        "for x in list_countries:\n",
        "  if x == 'espanha':\n",
        "    print('encontrei na posiçao:',list_countries.index(x))\n",
        "  else:\n",
        "      print('nao encontrei')"
      ],
      "execution_count": 25,
      "outputs": [
        {
          "output_type": "stream",
          "text": [
            "nao encontrei\n",
            "nao encontrei\n",
            "encontrei na posiçao: 2\n",
            "nao encontrei\n",
            "nao encontrei\n"
          ],
          "name": "stdout"
        }
      ]
    },
    {
      "cell_type": "code",
      "metadata": {
        "id": "F-aNoBUDqL94",
        "colab_type": "code",
        "colab": {
          "base_uri": "https://localhost:8080/",
          "height": 34
        },
        "outputId": "6e05809f-253e-465a-c294-6e3aaa24ab1f"
      },
      "source": [
        "print('espanha'in list_countries)"
      ],
      "execution_count": 28,
      "outputs": [
        {
          "output_type": "stream",
          "text": [
            "True\n"
          ],
          "name": "stdout"
        }
      ]
    },
    {
      "cell_type": "code",
      "metadata": {
        "id": "pctmTvlKqZsY",
        "colab_type": "code",
        "colab": {
          "base_uri": "https://localhost:8080/",
          "height": 34
        },
        "outputId": "436cf1ab-5c58-4deb-8b38-cd19068be3be"
      },
      "source": [
        "print('angola' not in list_countries)"
      ],
      "execution_count": 29,
      "outputs": [
        {
          "output_type": "stream",
          "text": [
            "False\n"
          ],
          "name": "stdout"
        }
      ]
    },
    {
      "cell_type": "code",
      "metadata": {
        "id": "5qF4Ay_AqzYy",
        "colab_type": "code",
        "colab": {
          "base_uri": "https://localhost:8080/",
          "height": 34
        },
        "outputId": "1490dc57-6cbe-4fea-fec1-c9bfba4da42b"
      },
      "source": [
        "list_countries.insert(0,'china')\n",
        "print(list_countries)"
      ],
      "execution_count": 30,
      "outputs": [
        {
          "output_type": "stream",
          "text": [
            "['china', 'suiça', 'holanda', 'espanha', 'brasil', 'angola']\n"
          ],
          "name": "stdout"
        }
      ]
    },
    {
      "cell_type": "code",
      "metadata": {
        "id": "nasLyIdHrYcI",
        "colab_type": "code",
        "colab": {
          "base_uri": "https://localhost:8080/",
          "height": 34
        },
        "outputId": "b36f062a-aea9-43d5-a8e5-ab1169685c21"
      },
      "source": [
        "list_countries.insert(2,'mexico')\n",
        "print(list_countries)"
      ],
      "execution_count": 32,
      "outputs": [
        {
          "output_type": "stream",
          "text": [
            "['china', 'suiça', 'mexico', 'holanda', 'espanha', 'brasil', 'angola']\n"
          ],
          "name": "stdout"
        }
      ]
    },
    {
      "cell_type": "code",
      "metadata": {
        "id": "CCjfmYzmrhzB",
        "colab_type": "code",
        "colab": {}
      },
      "source": [
        "list_countries.append('russia')\n",
        "print(list_countries)"
      ],
      "execution_count": null,
      "outputs": []
    },
    {
      "cell_type": "code",
      "metadata": {
        "id": "RLOx4Bkfr4pY",
        "colab_type": "code",
        "colab": {
          "base_uri": "https://localhost:8080/",
          "height": 34
        },
        "outputId": "08558adb-61ff-4666-d547-fc33e67d0df2"
      },
      "source": [
        "list_countries.remove('mexico')\n",
        "list_countries"
      ],
      "execution_count": 33,
      "outputs": [
        {
          "output_type": "execute_result",
          "data": {
            "text/plain": [
              "['china', 'suiça', 'holanda', 'espanha', 'brasil', 'angola']"
            ]
          },
          "metadata": {
            "tags": []
          },
          "execution_count": 33
        }
      ]
    },
    {
      "cell_type": "code",
      "metadata": {
        "id": "xrlrWi57seFo",
        "colab_type": "code",
        "colab": {
          "base_uri": "https://localhost:8080/",
          "height": 34
        },
        "outputId": "9581ae27-41a7-43db-9240-e3fae7dd5ea7"
      },
      "source": [
        "a=['edson','maria']\n",
        "b=['vinicius','joca']\n",
        "c=a+b\n",
        "\n",
        "c"
      ],
      "execution_count": 35,
      "outputs": [
        {
          "output_type": "execute_result",
          "data": {
            "text/plain": [
              "['edson', 'maria', 'vinicius', 'joca']"
            ]
          },
          "metadata": {
            "tags": []
          },
          "execution_count": 35
        }
      ]
    },
    {
      "cell_type": "code",
      "metadata": {
        "id": "yLDBp-UJu1s-",
        "colab_type": "code",
        "colab": {
          "base_uri": "https://localhost:8080/",
          "height": 34
        },
        "outputId": "3610cdc4-324f-4486-f19f-287c675f197b"
      },
      "source": [
        "valores=[1,2,3,4,5,6,7,8,9]\n",
        "max(valores)\n"
      ],
      "execution_count": 38,
      "outputs": [
        {
          "output_type": "execute_result",
          "data": {
            "text/plain": [
              "9"
            ]
          },
          "metadata": {
            "tags": []
          },
          "execution_count": 38
        }
      ]
    },
    {
      "cell_type": "code",
      "metadata": {
        "id": "9A32yPvrwNMN",
        "colab_type": "code",
        "colab": {
          "base_uri": "https://localhost:8080/",
          "height": 34
        },
        "outputId": "fc924b4b-5ca3-4e5a-d349-3bd9e5957d6f"
      },
      "source": [
        "\n",
        "sum(valores)"
      ],
      "execution_count": 37,
      "outputs": [
        {
          "output_type": "execute_result",
          "data": {
            "text/plain": [
              "45"
            ]
          },
          "metadata": {
            "tags": []
          },
          "execution_count": 37
        }
      ]
    },
    {
      "cell_type": "code",
      "metadata": {
        "id": "UvOEyHZewK_y",
        "colab_type": "code",
        "colab": {
          "base_uri": "https://localhost:8080/",
          "height": 34
        },
        "outputId": "dacf2458-83fa-475b-a1f6-26875cb629dd"
      },
      "source": [
        "min(valores)"
      ],
      "execution_count": 39,
      "outputs": [
        {
          "output_type": "execute_result",
          "data": {
            "text/plain": [
              "1"
            ]
          },
          "metadata": {
            "tags": []
          },
          "execution_count": 39
        }
      ]
    },
    {
      "cell_type": "code",
      "metadata": {
        "id": "y0XHn6APyU1F",
        "colab_type": "code",
        "colab": {}
      },
      "source": [
        "while valor >= 0:\n",
        "    valor = int(input('Digite o valor: '))\n",
        "    if valor >= 0:\n",
        "        contador += 1\n",
        "        soma += valor"
      ],
      "execution_count": null,
      "outputs": []
    },
    {
      "cell_type": "code",
      "metadata": {
        "id": "2ya6Te9H0A6W",
        "colab_type": "code",
        "colab": {
          "base_uri": "https://localhost:8080/",
          "height": 118
        },
        "outputId": "20cbbc8b-9f49-418d-a6fa-8b96874c6135"
      },
      "source": [
        " a = ['foo', 'bar']\n",
        ">>> while len(a):\n",
        "...     print(a.pop(0))\n",
        "...     b = ['baz', 'qux']\n",
        "...     while len(b):\n",
        "...         print('>', b.pop(0))"
      ],
      "execution_count": 40,
      "outputs": [
        {
          "output_type": "stream",
          "text": [
            "foo\n",
            "> baz\n",
            "> qux\n",
            "bar\n",
            "> baz\n",
            "> qux\n"
          ],
          "name": "stdout"
        }
      ]
    },
    {
      "cell_type": "code",
      "metadata": {
        "id": "mufio90r1PTF",
        "colab_type": "code",
        "colab": {}
      },
      "source": [
        "lista_nomes = ['']\n",
        "lista_idades = ['']\n",
        "lista_pesos = ['']\n",
        "lista_alturas = ['']\n",
        "\n",
        "Nome = input('Digite o nome')\n",
        "lista.insert(0, Nome)\n",
        "idade = input('Digite a idade')\n",
        "lista.insert(0, idade)\n",
        "Peso = input('Digite o peso')\n",
        "lista.insert(0, Peso)\n",
        "Altura = input('Digite a altura')\n",
        "lista.insert(0, Altura)\n",
        "\n",
        "print(lista_nomes[0],lista_idades[0],lista_pesos[0],lista_alturas[0])"
      ],
      "execution_count": null,
      "outputs": []
    },
    {
      "cell_type": "code",
      "metadata": {
        "id": "bSYKmAp12-fo",
        "colab_type": "code",
        "colab": {
          "base_uri": "https://localhost:8080/",
          "height": 67
        },
        "outputId": "bf7567fd-f681-47bb-82d3-3f7a2ebe96fe"
      },
      "source": [
        "pessoas=[\n",
        "         ['vinicius',22,75,1.65],\n",
        "         ['joao',27,74,1.75],\n",
        "         ['max',23,79,1.85]\n",
        "               \n",
        "\n",
        "]\n",
        "idades=[]\n",
        "\n",
        "for pessoa in pessoas:\n",
        "  idades.append(pessoa[1])\n",
        "  print('maior:' , max(idades))\n",
        "\n",
        "  "
      ],
      "execution_count": 55,
      "outputs": [
        {
          "output_type": "stream",
          "text": [
            "maior: 22\n",
            "maior: 27\n",
            "maior: 27\n"
          ],
          "name": "stdout"
        }
      ]
    },
    {
      "cell_type": "code",
      "metadata": {
        "id": "QUPsvKGL8CkB",
        "colab_type": "code",
        "colab": {
          "base_uri": "https://localhost:8080/",
          "height": 34
        },
        "outputId": "e490fcb7-2dbc-457d-bf13-f6c9e1bf4269"
      },
      "source": [
        "   print('menor:' , min(idades))"
      ],
      "execution_count": 51,
      "outputs": [
        {
          "output_type": "stream",
          "text": [
            "menor: 22\n"
          ],
          "name": "stdout"
        }
      ]
    },
    {
      "cell_type": "code",
      "metadata": {
        "id": "p1Ld5X1O8DqP",
        "colab_type": "code",
        "colab": {
          "base_uri": "https://localhost:8080/",
          "height": 34
        },
        "outputId": "6c399a42-fc65-4b8a-f46c-00fcb664f5ad"
      },
      "source": [
        "  print('media:' , sum(idades)/len(idades))"
      ],
      "execution_count": 49,
      "outputs": [
        {
          "output_type": "stream",
          "text": [
            "media: 24.0\n"
          ],
          "name": "stdout"
        }
      ]
    }
  ]
}