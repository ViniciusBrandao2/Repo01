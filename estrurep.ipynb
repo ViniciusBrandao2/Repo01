{
  "nbformat": 4,
  "nbformat_minor": 0,
  "metadata": {
    "colab": {
      "name": "estrurep.ipynb",
      "provenance": [],
      "authorship_tag": "ABX9TyOEalacDmCKtoRQ4SD9SGMM",
      "include_colab_link": true
    },
    "kernelspec": {
      "name": "python3",
      "display_name": "Python 3"
    }
  },
  "cells": [
    {
      "cell_type": "markdown",
      "metadata": {
        "id": "view-in-github",
        "colab_type": "text"
      },
      "source": [
        "<a href=\"https://colab.research.google.com/github/ViniciusBrandao2/Repo01/blob/master/estrurep.ipynb\" target=\"_parent\"><img src=\"https://colab.research.google.com/assets/colab-badge.svg\" alt=\"Open In Colab\"/></a>"
      ]
    },
    {
      "cell_type": "code",
      "metadata": {
        "id": "b3v5siezieR1",
        "colab_type": "code",
        "colab": {}
      },
      "source": [
        "if (10 > 2):\n",
        "  print('execulta o codigo','é verdade')"
      ],
      "execution_count": null,
      "outputs": []
    },
    {
      "cell_type": "code",
      "metadata": {
        "id": "NZwzXzlGmgMw",
        "colab_type": "code",
        "colab": {
          "base_uri": "https://localhost:8080/",
          "height": 34
        },
        "outputId": "e825057b-f801-43fd-8e93-2fd8d49e6d8a"
      },
      "source": [
        "if (10 > 2):\n",
        "    print('verdadeiro')\n",
        "else:\n",
        "     print('falso')"
      ],
      "execution_count": 1,
      "outputs": [
        {
          "output_type": "stream",
          "text": [
            "verdadeiro\n"
          ],
          "name": "stdout"
        }
      ]
    },
    {
      "cell_type": "code",
      "metadata": {
        "id": "TwklqTPooGHE",
        "colab_type": "code",
        "colab": {}
      },
      "source": [
        "if (10 == 11):\n",
        "    print('10 nao é igual a 11'):\n",
        "else:\n",
        "  if (10 > 11):\n",
        "    print('10 é maior do que 11'):\n",
        "  else\n",
        "    print('10 é nenor que 11'):\n",
        "\n"
      ],
      "execution_count": null,
      "outputs": []
    },
    {
      "cell_type": "code",
      "metadata": {
        "id": "lMex6d8wqGGM",
        "colab_type": "code",
        "colab": {}
      },
      "source": [
        "x=10\n",
        "y=11\n",
        "z=5\n",
        "\n",
        "if (x <= y or z < y):\n",
        "  print('verdadeiro')\n",
        "else:\n",
        "  print('falso')\n"
      ],
      "execution_count": null,
      "outputs": []
    },
    {
      "cell_type": "code",
      "metadata": {
        "id": "HMWj_DkSqka9",
        "colab_type": "code",
        "colab": {}
      },
      "source": [
        "idade = 18\n",
        "\n",
        "if idade < 12:\n",
        "  print('criança')\n",
        "elif idade < 18:\n",
        "  print('adolecente')\n",
        "elif idade < 60:\n",
        "  print('adulto')\n",
        "else:\n",
        "  print('idoso')"
      ],
      "execution_count": null,
      "outputs": []
    }
  ]
}