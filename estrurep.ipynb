{
  "nbformat": 4,
  "nbformat_minor": 0,
  "metadata": {
    "colab": {
      "name": "estrurep.ipynb",
      "provenance": [],
      "collapsed_sections": [],
      "authorship_tag": "ABX9TyNi+YwBB9wscYSKU3dmFwe8",
      "include_colab_link": true
    },
    "kernelspec": {
      "name": "python3",
      "display_name": "Python 3"
    }
  },
  "cells": [
    {
      "cell_type": "markdown",
      "metadata": {
        "id": "view-in-github",
        "colab_type": "text"
      },
      "source": [
        "<a href=\"https://colab.research.google.com/github/ViniciusBrandao2/Repo01/blob/master/estrurep.ipynb\" target=\"_parent\"><img src=\"https://colab.research.google.com/assets/colab-badge.svg\" alt=\"Open In Colab\"/></a>"
      ]
    },
    {
      "cell_type": "code",
      "metadata": {
        "id": "b3v5siezieR1",
        "colab_type": "code",
        "colab": {}
      },
      "source": [
        "if (10 > 2):\n",
        "  print('execulta o codigo','é verdade')"
      ],
      "execution_count": null,
      "outputs": []
    },
    {
      "cell_type": "code",
      "metadata": {
        "id": "NZwzXzlGmgMw",
        "colab_type": "code",
        "colab": {
          "base_uri": "https://localhost:8080/",
          "height": 34
        },
        "outputId": "e825057b-f801-43fd-8e93-2fd8d49e6d8a"
      },
      "source": [
        "if (10 > 2):\n",
        "    print('verdadeiro')\n",
        "else:\n",
        "     print('falso')"
      ],
      "execution_count": 1,
      "outputs": [
        {
          "output_type": "stream",
          "text": [
            "verdadeiro\n"
          ],
          "name": "stdout"
        }
      ]
    },
    {
      "cell_type": "code",
      "metadata": {
        "id": "TwklqTPooGHE",
        "colab_type": "code",
        "colab": {}
      },
      "source": [
        "if (10 == 11):\n",
        "    print('10 nao é igual a 11'):\n",
        "else:\n",
        "  if (10 > 11):\n",
        "    print('10 é maior do que 11'):\n",
        "  else\n",
        "    print('10 é nenor que 11'):\n",
        "\n"
      ],
      "execution_count": null,
      "outputs": []
    },
    {
      "cell_type": "code",
      "metadata": {
        "id": "lMex6d8wqGGM",
        "colab_type": "code",
        "colab": {}
      },
      "source": [
        "x=10\n",
        "y=11\n",
        "z=5\n",
        "\n",
        "if (x <= y or z < y):\n",
        "  print('verdadeiro')\n",
        "else:\n",
        "  print('falso')\n"
      ],
      "execution_count": null,
      "outputs": []
    },
    {
      "cell_type": "code",
      "metadata": {
        "id": "HMWj_DkSqka9",
        "colab_type": "code",
        "colab": {}
      },
      "source": [
        "idade = 18\n",
        "\n",
        "if idade < 12:\n",
        "  print('criança')\n",
        "elif idade < 18:\n",
        "  print('adolecente')\n",
        "elif idade < 60:\n",
        "  print('adulto')\n",
        "else:\n",
        "  print('idoso')"
      ],
      "execution_count": null,
      "outputs": []
    },
    {
      "cell_type": "code",
      "metadata": {
        "id": "de2nvNqAr3Qb",
        "colab_type": "code",
        "colab": {
          "base_uri": "https://localhost:8080/",
          "height": 185
        },
        "outputId": "bc675d5c-bc06-4ded-e50d-fb995d511f5b"
      },
      "source": [
        "for n in range(1,11):\n",
        "  print(n)"
      ],
      "execution_count": 14,
      "outputs": [
        {
          "output_type": "stream",
          "text": [
            "1\n",
            "2\n",
            "3\n",
            "4\n",
            "5\n",
            "6\n",
            "7\n",
            "8\n",
            "9\n",
            "10\n"
          ],
          "name": "stdout"
        }
      ]
    },
    {
      "cell_type": "code",
      "metadata": {
        "id": "TqRROfrVwBgR",
        "colab_type": "code",
        "colab": {}
      },
      "source": [
        "# laço de repetiçao enquanto ou while\n",
        "\n",
        "var = 1\n",
        "while var < 11: # enquanto for verdadeira\n",
        "  print(var)\n",
        "  var + = 1"
      ],
      "execution_count": null,
      "outputs": []
    },
    {
      "cell_type": "code",
      "metadata": {
        "id": "9U0zDynI1LVg",
        "colab_type": "code",
        "colab": {
          "base_uri": "https://localhost:8080/",
          "height": 202
        },
        "outputId": "8bf48d3a-4aff-43a4-c9c8-07c5c138c705"
      },
      "source": [
        "valor1 = input('digite o valor da tabuada')\n",
        "for n in range(1,11):\n",
        "  resultado=(n*valor1)\n",
        "  print(resultado)\n",
        "  \n"
      ],
      "execution_count": 25,
      "outputs": [
        {
          "output_type": "stream",
          "text": [
            "digite o valor da tabuada2\n",
            "2\n",
            "22\n",
            "222\n",
            "2222\n",
            "22222\n",
            "222222\n",
            "2222222\n",
            "22222222\n",
            "222222222\n",
            "2222222222\n"
          ],
          "name": "stdout"
        }
      ]
    },
    {
      "cell_type": "code",
      "metadata": {
        "id": "YSnT2a7S6jfU",
        "colab_type": "code",
        "colab": {}
      },
      "source": [
        "# Programa Tabuada em Python\n",
        "def tabuada(x):\n",
        "    for cont in range(1,11):\n",
        "        print('{0} x {1} = {2}'.format(x,cont,x*cont))\n",
        "\n",
        "if __name__=='__main__':\n",
        "    num = int(input('Digite um número: '))\n",
        "    tabuada(num)"
      ],
      "execution_count": null,
      "outputs": []
    },
    {
      "cell_type": "code",
      "metadata": {
        "id": "TQ2zIX-D7COS",
        "colab_type": "code",
        "colab": {}
      },
      "source": [
        "numero = int(input(\"Digite um numero: \"))\n",
        "for c in range(1,11,):\n",
        "    print(c ,\" * \",numero, \" = \", c * numero)\n",
        "    print(\"=\" *20)\n",
        "print(\"Calculadora fializada: \")"
      ],
      "execution_count": null,
      "outputs": []
    },
    {
      "cell_type": "code",
      "metadata": {
        "id": "WJvV8ihr82up",
        "colab_type": "code",
        "colab": {
          "base_uri": "https://localhost:8080/",
          "height": 218
        },
        "outputId": "2ef7495a-21fb-4d58-85bd-ede16d774507"
      },
      "source": [
        "numero = int(input(\"Digite um numero: \"))\n",
        "for c in range(1,11):\n",
        "  if (c+numero)%2==0:\n",
        "    print(c ,\" * \",numero, \" = \", c * numero)\n",
        "    print(\"=\" *20)\n",
        "print(\"Calculadora fializada: \")"
      ],
      "execution_count": 42,
      "outputs": [
        {
          "output_type": "stream",
          "text": [
            "Digite um numero: 3\n",
            "1  *  3  =  3\n",
            "====================\n",
            "3  *  3  =  9\n",
            "====================\n",
            "5  *  3  =  15\n",
            "====================\n",
            "7  *  3  =  21\n",
            "====================\n",
            "9  *  3  =  27\n",
            "====================\n",
            "Calculadora fializada: \n"
          ],
          "name": "stdout"
        }
      ]
    },
    {
      "cell_type": "code",
      "metadata": {
        "id": "Y869zOOL_sXl",
        "colab_type": "code",
        "colab": {}
      },
      "source": [
        "tabuada=int(input(digite qual o valor da tabuada))\n",
        "for n in range(1,11)\n",
        "  if (taboada*n)% 2==1:\n",
        "  print(tabuada,\"x\",n,\"=\",tabuada*n)"
      ],
      "execution_count": null,
      "outputs": []
    },
    {
      "cell_type": "code",
      "metadata": {
        "id": "qyXAyqftAlsY",
        "colab_type": "code",
        "colab": {}
      },
      "source": [
        "valor=0\n",
        "soma=0\n",
        "contador=0\n",
        "\n",
        "while valor >= 0:\n",
        "    valor = int(input('Digite o valor: '))\n",
        "    if valor >= 0:\n",
        "        contador += 1\n",
        "        soma += valor\n",
        "        \n",
        "print('')\n",
        "print('Soma dos valores..........:', soma)\n",
        "print('Total de valores digitados:', contador)\n",
        "print('Média dos valores.........:', soma/contador)"
      ],
      "execution_count": null,
      "outputs": []
    },
    {
      "cell_type": "code",
      "metadata": {
        "id": "fHch7tNOET2W",
        "colab_type": "code",
        "colab": {
          "base_uri": "https://localhost:8080/",
          "height": 262
        },
        "outputId": "3dce3b00-189b-4b0e-9f40-b76471ba44b4"
      },
      "source": [
        "peso = 114\n",
        "altura = 1.78\n",
        "imc = peso/(altura*altura)\n",
        "\n",
        "status = ''\n",
        "if imc < 18.5:\n",
        "    status = 'Abaixo do peso'\n",
        "elif (imc > 18.5 and imc < 24.9):\n",
        "    status = 'Peso normal'\n",
        "elif (imc > 25 and imc < 29.9):\n",
        "    status = 'Sobrepeso'\n",
        "elif (imc > 30 and imc < 34.9):\n",
        "    status = 'Obesidade grau 1'\n",
        "elif (imc > 35 and imc < 39.9):\n",
        "    status = 'Obesidade grau 2'\n",
        "else:\n",
        "    status = 'Obesidade grau 3'\n",
        "\n",
        "print('Seu IMC é:', round(imc,2), \"(\", status, \")\")"
      ],
      "execution_count": 48,
      "outputs": [
        {
          "output_type": "stream",
          "text": [
            "Digite o peso: 27,5\n",
            "Digite a altura: 1,75\n"
          ],
          "name": "stdout"
        },
        {
          "output_type": "error",
          "ename": "TypeError",
          "evalue": "ignored",
          "traceback": [
            "\u001b[0;31m---------------------------------------------------------------------------\u001b[0m",
            "\u001b[0;31mTypeError\u001b[0m                                 Traceback (most recent call last)",
            "\u001b[0;32m<ipython-input-48-48859c51cc86>\u001b[0m in \u001b[0;36m<module>\u001b[0;34m()\u001b[0m\n\u001b[1;32m      1\u001b[0m \u001b[0mpeso\u001b[0m \u001b[0;34m=\u001b[0m \u001b[0minput\u001b[0m\u001b[0;34m(\u001b[0m\u001b[0;34m'Digite o peso: '\u001b[0m\u001b[0;34m)\u001b[0m\u001b[0;34m\u001b[0m\u001b[0;34m\u001b[0m\u001b[0m\n\u001b[1;32m      2\u001b[0m \u001b[0maltura\u001b[0m \u001b[0;34m=\u001b[0m \u001b[0minput\u001b[0m\u001b[0;34m(\u001b[0m\u001b[0;34m'Digite a altura: '\u001b[0m\u001b[0;34m)\u001b[0m\u001b[0;34m\u001b[0m\u001b[0;34m\u001b[0m\u001b[0m\n\u001b[0;32m----> 3\u001b[0;31m \u001b[0mimc\u001b[0m \u001b[0;34m=\u001b[0m \u001b[0mpeso\u001b[0m\u001b[0;34m/\u001b[0m\u001b[0;34m(\u001b[0m\u001b[0maltura\u001b[0m\u001b[0;34m*\u001b[0m\u001b[0maltura\u001b[0m\u001b[0;34m)\u001b[0m\u001b[0;34m\u001b[0m\u001b[0;34m\u001b[0m\u001b[0m\n\u001b[0m\u001b[1;32m      4\u001b[0m \u001b[0;34m\u001b[0m\u001b[0m\n\u001b[1;32m      5\u001b[0m \u001b[0mstatus\u001b[0m \u001b[0;34m=\u001b[0m \u001b[0;34m''\u001b[0m\u001b[0;34m\u001b[0m\u001b[0;34m\u001b[0m\u001b[0m\n",
            "\u001b[0;31mTypeError\u001b[0m: can't multiply sequence by non-int of type 'str'"
          ]
        }
      ]
    }
  ]
}