{
  "nbformat": 4,
  "nbformat_minor": 0,
  "metadata": {
    "colab": {
      "name": "PROJETO1.ipynb",
      "provenance": [],
      "authorship_tag": "ABX9TyOQwo8EYVC1ns9KLHMBRsPY",
      "include_colab_link": true
    },
    "kernelspec": {
      "name": "python3",
      "display_name": "Python 3"
    }
  },
  "cells": [
    {
      "cell_type": "markdown",
      "metadata": {
        "id": "view-in-github",
        "colab_type": "text"
      },
      "source": [
        "<a href=\"https://colab.research.google.com/github/ViniciusBrandao2/Repo01/blob/master/PROJETO1.ipynb\" target=\"_parent\"><img src=\"https://colab.research.google.com/assets/colab-badge.svg\" alt=\"Open In Colab\"/></a>"
      ]
    },
    {
      "cell_type": "code",
      "metadata": {
        "id": "ycwznkib1GdG",
        "colab_type": "code",
        "colab": {
          "base_uri": "https://localhost:8080/",
          "height": 67
        },
        "outputId": "1ccf8b64-4387-4791-9d34-f570629e5a2f"
      },
      "source": [
        "### isto é um comando de saida\n",
        "print('ola mundo cruel!!!')\n",
        "print('cruel world!!!')\n",
        "print(\"'cruel world!!!'\")\n",
        "\n",
        "# é um comentario \n",
        "# print uma saida de valores "
      ],
      "execution_count": 3,
      "outputs": [
        {
          "output_type": "stream",
          "text": [
            "ola mundo cruel!!!\n",
            "cruel world!!!\n",
            "'cruel world!!!'\n"
          ],
          "name": "stdout"
        }
      ]
    },
    {
      "cell_type": "markdown",
      "metadata": {
        "id": "fBcKiYa64j8_",
        "colab_type": "text"
      },
      "source": [
        "Esta é uma celula somente de texto.\n",
        "Aqui posso fazer a formataçao usabdo as ferramentas qye estao na barra. Por exemplo, **isso é negrito** \n",
        "\n"
      ]
    },
    {
      "cell_type": "markdown",
      "metadata": {
        "id": "1cns2P3l5MZE",
        "colab_type": "text"
      },
      "source": [
        "Saida de tela\n"
      ]
    },
    {
      "cell_type": "code",
      "metadata": {
        "id": "dkamynIY5P4c",
        "colab_type": "code",
        "colab": {
          "base_uri": "https://localhost:8080/",
          "height": 202
        },
        "outputId": "be9bdcee-a2bb-44ae-a249-e5e37cd947d5"
      },
      "source": [
        "print('vinicius','souza','brandao')\n",
        "\n",
        "for i in range(1,11):\n",
        "  print(i)"
      ],
      "execution_count": 4,
      "outputs": [
        {
          "output_type": "stream",
          "text": [
            "vinicius souza brandao\n",
            "1\n",
            "2\n",
            "3\n",
            "4\n",
            "5\n",
            "6\n",
            "7\n",
            "8\n",
            "9\n",
            "10\n"
          ],
          "name": "stdout"
        }
      ]
    },
    {
      "cell_type": "code",
      "metadata": {
        "id": "LAXpfOJU5xzG",
        "colab_type": "code",
        "colab": {}
      },
      "source": [
        ""
      ],
      "execution_count": 4,
      "outputs": []
    }
  ]
}