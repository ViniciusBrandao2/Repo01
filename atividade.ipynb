{
  "nbformat": 4,
  "nbformat_minor": 0,
  "metadata": {
    "colab": {
      "name": "atividade.ipynb",
      "provenance": [],
      "collapsed_sections": [],
      "authorship_tag": "ABX9TyNFbuph1HGOjJRyShynmXdr",
      "include_colab_link": true
    },
    "kernelspec": {
      "name": "python3",
      "display_name": "Python 3"
    }
  },
  "cells": [
    {
      "cell_type": "markdown",
      "metadata": {
        "id": "view-in-github",
        "colab_type": "text"
      },
      "source": [
        "<a href=\"https://colab.research.google.com/github/ViniciusBrandao2/Repo01/blob/master/atividade.ipynb\" target=\"_parent\"><img src=\"https://colab.research.google.com/assets/colab-badge.svg\" alt=\"Open In Colab\"/></a>"
      ]
    },
    {
      "cell_type": "code",
      "metadata": {
        "id": "xObtSUNZnEcA",
        "colab_type": "code",
        "colab": {
          "base_uri": "https://localhost:8080/",
          "height": 151
        },
        "outputId": "b85718fd-2d42-4f78-8c4a-938bd1f5ee12"
      },
      "source": [
        "pessoas=[\n",
        "         ['vinicius', 22, 75, 1.65],\n",
        "         ['joao', 27, 74, 1.75]]\n",
        "\n",
        "idades = []\n",
        "pesos = []\n",
        "quantidade=len(pessoas)\n",
        "\n",
        "for pessoa in pessoas:\n",
        "  idades.append(pessoa[1])\n",
        "  pesos.append(pessoa[2])\n",
        "\n",
        "  print('maior......:' , max(idades))\n",
        "  print('menor......:' , min(idades))\n",
        "  print('media idade:' , sum(idades)/quantidade)\n",
        "  print('media  peso:' , sum(pesos)/quantidade)"
      ],
      "execution_count": 5,
      "outputs": [
        {
          "output_type": "stream",
          "text": [
            "maior......: 22\n",
            "menor......: 22\n",
            "media idade: 22.0\n",
            "media  peso: 75.0\n",
            "maior......: 27\n",
            "menor......: 22\n",
            "media idade: 24.5\n",
            "media  peso: 74.5\n"
          ],
          "name": "stdout"
        }
      ]
    },
    {
      "cell_type": "code",
      "metadata": {
        "id": "_ZCCXDy_sIl3",
        "colab_type": "code",
        "colab": {}
      },
      "source": [
        "if (min(idade)<18):\n",
        "  ...\n",
        "  elif ()"
      ],
      "execution_count": null,
      "outputs": []
    }
  ]
}